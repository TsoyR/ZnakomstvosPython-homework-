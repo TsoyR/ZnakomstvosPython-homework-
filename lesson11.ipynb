{
 "cells": [
  {
   "cell_type": "code",
   "execution_count": 1,
   "id": "a40693cb",
   "metadata": {},
   "outputs": [],
   "source": [
    "import numpy as np\n",
    "from sympy import *\n",
    "from sympy.plotting import plot\n",
    "import math\n",
    "from scipy.optimize import fsolve"
   ]
  },
  {
   "cell_type": "code",
   "execution_count": 2,
   "id": "e66dfb22",
   "metadata": {},
   "outputs": [],
   "source": [
    "# Присвоил 'питоновской' переменной x матем. переменную x с помощью функции symbols\n",
    "x = Symbol('x')"
   ]
  },
  {
   "cell_type": "code",
   "execution_count": 3,
   "id": "91c4fd8e",
   "metadata": {},
   "outputs": [],
   "source": [
    "f = -12*x**4*sin(cos(x)) - 18*x**3+5*x**2 + 10*x - 30"
   ]
  },
  {
   "cell_type": "code",
   "execution_count": 4,
   "id": "82d02695",
   "metadata": {},
   "outputs": [
    {
     "data": {
      "text/latex": [
       "$\\displaystyle - 12 x^{4} \\sin{\\left(\\cos{\\left(x \\right)} \\right)} - 18 x^{3} + 5 x^{2} + 10 x - 30 = 0$"
      ],
      "text/plain": [
       "Eq(-12*x**4*sin(cos(x)) - 18*x**3 + 5*x**2 + 10*x - 30, 0)"
      ]
     },
     "execution_count": 4,
     "metadata": {},
     "output_type": "execute_result"
    }
   ],
   "source": [
    "eq = Eq(f,0)\n",
    "eq"
   ]
  },
  {
   "cell_type": "code",
   "execution_count": 5,
   "id": "be20b7c9",
   "metadata": {},
   "outputs": [],
   "source": [
    "res = solveset(eq,x)"
   ]
  },
  {
   "cell_type": "code",
   "execution_count": 6,
   "id": "7bf3aa47",
   "metadata": {},
   "outputs": [
    {
     "data": {
      "text/latex": [
       "$\\displaystyle \\left\\{x\\; \\middle|\\; x \\in \\mathbb{C} \\wedge - 12 x^{4} \\sin{\\left(\\cos{\\left(x \\right)} \\right)} - 18 x^{3} + 5 x^{2} + 10 x - 30 = 0 \\right\\}$"
      ],
      "text/plain": [
       "ConditionSet(x, Eq(-12*x**4*sin(cos(x)) - 18*x**3 + 5*x**2 + 10*x - 30, 0), Complexes)"
      ]
     },
     "execution_count": 6,
     "metadata": {},
     "output_type": "execute_result"
    }
   ],
   "source": [
    "res"
   ]
  },
  {
   "cell_type": "code",
   "execution_count": 7,
   "id": "92cf0b37",
   "metadata": {},
   "outputs": [],
   "source": [
    "df = f.diff(x)\n"
   ]
  },
  {
   "cell_type": "code",
   "execution_count": 8,
   "id": "98784126",
   "metadata": {},
   "outputs": [
    {
     "data": {
      "text/latex": [
       "$\\displaystyle 12 x^{4} \\sin{\\left(x \\right)} \\cos{\\left(\\cos{\\left(x \\right)} \\right)} - 48 x^{3} \\sin{\\left(\\cos{\\left(x \\right)} \\right)} - 54 x^{2} + 10 x + 10$"
      ],
      "text/plain": [
       "12*x**4*sin(x)*cos(cos(x)) - 48*x**3*sin(cos(x)) - 54*x**2 + 10*x + 10"
      ]
     },
     "execution_count": 8,
     "metadata": {},
     "output_type": "execute_result"
    }
   ],
   "source": [
    "df"
   ]
  },
  {
   "cell_type": "code",
   "execution_count": 9,
   "id": "fa21e8a9",
   "metadata": {},
   "outputs": [],
   "source": [
    "# #Если в точке x выполняется условие:\n",
    "# f'(x) = 0\n",
    "# f'(x) < 0\n",
    "# то точка x - локальный (глобальный) максимум."
   ]
  },
  {
   "cell_type": "code",
   "execution_count": 10,
   "id": "384d1fea",
   "metadata": {},
   "outputs": [
    {
     "data": {
      "text/latex": [
       "$\\displaystyle 12 x^{4} \\sin{\\left(x \\right)} \\cos{\\left(\\cos{\\left(x \\right)} \\right)} - 48 x^{3} \\sin{\\left(\\cos{\\left(x \\right)} \\right)} - 54 x^{2} + 10 x + 10 = 0$"
      ],
      "text/plain": [
       "Eq(12*x**4*sin(x)*cos(cos(x)) - 48*x**3*sin(cos(x)) - 54*x**2 + 10*x + 10, 0)"
      ]
     },
     "execution_count": 10,
     "metadata": {},
     "output_type": "execute_result"
    }
   ],
   "source": [
    "eq = Eq(df,0)\n",
    "eq"
   ]
  },
  {
   "cell_type": "code",
   "execution_count": null,
   "id": "2b79bffa",
   "metadata": {},
   "outputs": [],
   "source": [
    "solve(eq,x)"
   ]
  },
  {
   "cell_type": "code",
   "execution_count": null,
   "id": "ee20776d",
   "metadata": {},
   "outputs": [],
   "source": [
    "increase = solveset(df > 0,x)\n",
    "increase"
   ]
  },
  {
   "cell_type": "code",
   "execution_count": null,
   "id": "86d1d451",
   "metadata": {},
   "outputs": [],
   "source": [
    "decay = solveset(df > 0,x)\n",
    "decay"
   ]
  },
  {
   "cell_type": "code",
   "execution_count": null,
   "id": "ca37e5d9",
   "metadata": {
    "scrolled": true
   },
   "outputs": [],
   "source": [
    "plot(f)"
   ]
  },
  {
   "cell_type": "code",
   "execution_count": null,
   "id": "54b34788",
   "metadata": {},
   "outputs": [],
   "source": []
  },
  {
   "cell_type": "code",
   "execution_count": null,
   "id": "5ed44c09",
   "metadata": {},
   "outputs": [],
   "source": []
  }
 ],
 "metadata": {
  "kernelspec": {
   "display_name": "Python 3 (ipykernel)",
   "language": "python",
   "name": "python3"
  },
  "language_info": {
   "codemirror_mode": {
    "name": "ipython",
    "version": 3
   },
   "file_extension": ".py",
   "mimetype": "text/x-python",
   "name": "python",
   "nbconvert_exporter": "python",
   "pygments_lexer": "ipython3",
   "version": "3.10.5"
  }
 },
 "nbformat": 4,
 "nbformat_minor": 5
}
